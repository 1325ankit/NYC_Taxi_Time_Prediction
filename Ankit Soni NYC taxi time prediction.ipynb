{
 "cells": [
  {
   "cell_type": "markdown",
   "id": "6dddafa9",
   "metadata": {},
   "source": [
    "## Problem Statement\n",
    "At some point or the other almost each one of us has used an Ola or Uber for taking a ride. \n",
    "\n",
    "Ride hailing services are services that use online-enabled platforms to connect between passengers and local drivers using their personal vehicles. In most cases they are a comfortable method for door-to-door transport. Usually they are cheaper than using licensed taxicabs. Examples of ride hailing services include Uber and Lyft.\n",
    "\n",
    "\n",
    "To improve the efficiency of taxi dispatching systems for such services, it is important to be able to predict how long a driver will have his taxi occupied. If a dispatcher knew approximately when a taxi driver would be ending their current ride, they would be better able to identify which driver to assign to each pickup request.\n",
    "\n",
    "In this competition, we are challenged to build a model that predicts the total ride duration of taxi trips in New York City."
   ]
  },
  {
   "cell_type": "markdown",
   "id": "563b8e3c",
   "metadata": {},
   "source": [
    "## 1. Exploratory Data Analysis\n",
    "Let's check the data files! According to the data description we should find the following columns:\n",
    "\n",
    " - **id** - a unique identifier for each trip\n",
    " - **vendor_id** - a code indicating the provider associated with the trip record\n",
    " - **pickup_datetime** - date and time when the meter was engaged\n",
    " - **dropoff_datetime** - date and time when the meter was disengaged\n",
    " - **passenger_count** - the number of passengers in the vehicle (driver entered value)\n",
    " - **pickup_longitude** - the longitude where the meter was engaged\n",
    " - **pickup_latitude** - the latitude where the meter was engaged\n",
    " - **dropoff_longitude** - the longitude where the meter was disengaged\n",
    " - **dropoff_latitude** - the latitude where the meter was disengaged\n",
    " - **store_and_fwd_flag** - This flag indicates whether the trip record was held in vehicle memory before sending to the vendor because the vehicle did not have a connection to the server (Y=store and forward; N=not a store and forward trip)\n",
    " - **trip_duration** - (target) duration of the trip in seconds\n",
    "\n",
    "Here, we have 2 variables dropoff_datetime and store_and_fwd_flag which are not available before the trip starts and hence will not be used as features to the model."
   ]
  },
  {
   "cell_type": "markdown",
   "id": "7dcd3991",
   "metadata": {},
   "source": [
    "### 1.1 Load Libraries"
   ]
  },
  {
   "cell_type": "code",
   "execution_count": null,
   "id": "66e295ca",
   "metadata": {},
   "outputs": [],
   "source": [
    "import pandas as pd\n",
    "import seaborn as sns\n",
    "import matplotlib.pyplot as plt\n",
    "import numpy as np\n",
    "import datetime as dt\n",
    "from datetime import timedelta\n",
    "import sklearn\n",
    "import warnings\n",
    "warnings.filterwarnings('ignore')\n",
    "\n"
   ]
  },
  {
   "cell_type": "markdown",
   "id": "3b495aa9",
   "metadata": {},
   "source": [
    "### Load Data"
   ]
  },
  {
   "cell_type": "code",
   "execution_count": null,
   "id": "8a7406b8",
   "metadata": {},
   "outputs": [],
   "source": [
    "dfMain=pd.read_csv(\"D:/Internshala Course/EDA & ML module/EDA-ML-Final-Project/EDA+ML-Final Project/nyc_taxi_trip_duration.csv\")\n",
    "\n",
    "#df.head()\n",
    "#copy_column=df[['pickup_latitude','pickup_longitude','dropoff_longitude','dropoff_latitude']].copy()\n",
    "#copy_column.head()\n",
    "#copy_column.to_csv(\"D:\\Internshala Course\\EDA & ML module\", index= False)"
   ]
  },
  {
   "cell_type": "code",
   "execution_count": null,
   "id": "50a4d975",
   "metadata": {},
   "outputs": [],
   "source": [
    "df=dfMain.copy()"
   ]
  },
  {
   "cell_type": "code",
   "execution_count": null,
   "id": "1f9ef60e",
   "metadata": {},
   "outputs": [],
   "source": []
  },
  {
   "cell_type": "code",
   "execution_count": null,
   "id": "796c9e6e",
   "metadata": {},
   "outputs": [],
   "source": [
    "df.dtypes"
   ]
  },
  {
   "cell_type": "code",
   "execution_count": null,
   "id": "d1680a5f",
   "metadata": {},
   "outputs": [],
   "source": [
    "df.isnull().sum()"
   ]
  },
  {
   "cell_type": "code",
   "execution_count": null,
   "id": "420247cd",
   "metadata": {},
   "outputs": [],
   "source": [
    "df.describe()"
   ]
  },
  {
   "cell_type": "markdown",
   "id": "3f47bfa9",
   "metadata": {},
   "source": [
    "### File structure and content"
   ]
  },
  {
   "cell_type": "code",
   "execution_count": null,
   "id": "1bd860f3",
   "metadata": {},
   "outputs": [],
   "source": [
    "# Convert the pickup and dropoff datetime columns to datetime format\n",
    "df[\"pickup_datetime\"]=pd.to_datetime(df[\"pickup_datetime\"])\n",
    "df[\"dropoff_datetime\"]=pd.to_datetime(df[\"dropoff_datetime\"])                                    "
   ]
  },
  {
   "cell_type": "markdown",
   "id": "6ed921f5",
   "metadata": {},
   "source": [
    "### Reformatting features & Checking consistency"
   ]
  },
  {
   "cell_type": "code",
   "execution_count": null,
   "id": "148767c6",
   "metadata": {},
   "outputs": [],
   "source": [
    "df['store_and_fwd_flag'] = df['store_and_fwd_flag'].str.strip().map({'N': 0, 'Y': 1})\n",
    "#df.head()"
   ]
  },
  {
   "cell_type": "code",
   "execution_count": null,
   "id": "109f8bd4",
   "metadata": {},
   "outputs": [],
   "source": [
    "#print(df['pickup_datetime'].dtype)\n",
    "#print(df['dropoff_datetime'].dtype)"
   ]
  },
  {
   "cell_type": "code",
   "execution_count": null,
   "id": "d87672c6",
   "metadata": {},
   "outputs": [],
   "source": [
    "# Create new columns for pickup date, pickup hour, pickup weekday, and trip duration in seconds\n",
    "df['pickup_date']=df['pickup_datetime'].dt.date\n",
    "df['pickup_day']=df['pickup_datetime'].dt.day\n",
    "df['pickup_hour']=df['pickup_datetime'].dt.hour\n",
    "df['pickup_weekday']=df['pickup_datetime'].dt.weekday\n",
    "df['trip_duration']=df['trip_duration']/3600\n",
    "df['dropoff_weekday']=df['dropoff_datetime'].dt.weekday\n",
    "df['dropoff_day']=df['dropoff_datetime'].dt.day\n",
    "#df['pickup_minute']=df['pickup_datetime'].dt.minute\n",
    "#df['pickup_seconds']=df['pickup_datetime'].dt.second\n",
    "df['total_time']=(df['dropoff_datetime']-df['pickup_datetime']).dt.total_seconds()\n",
    "df['dropoff_hour']=df['dropoff_datetime'].dt.hour\n",
    "df.shape\n"
   ]
  },
  {
   "cell_type": "code",
   "execution_count": null,
   "id": "6c26ded8",
   "metadata": {},
   "outputs": [],
   "source": [
    "def time_of_day(x):\n",
    "    # to calculate what time of it is now\n",
    "    if x in range(6,12):\n",
    "        return 'Morning'\n",
    "    elif x in range(12,16):\n",
    "        return 'Afternoon'\n",
    "    elif x in range(16,22):\n",
    "        return 'Evening'\n",
    "    else:\n",
    "        return 'Late night'\n",
    "\n",
    "df['pickup_time_of_day'] = df['pickup_hour'].apply(time_of_day)\n",
    "df['dropoff_time_of_day'] = df['dropoff_hour'].apply(time_of_day)"
   ]
  },
  {
   "cell_type": "code",
   "execution_count": null,
   "id": "02f8faee",
   "metadata": {},
   "outputs": [],
   "source": [
    "df.head()"
   ]
  },
  {
   "cell_type": "code",
   "execution_count": null,
   "id": "14bef2be",
   "metadata": {},
   "outputs": [],
   "source": [
    "\n",
    "# Define the dictionary mapping weekday numbers to weekday names\n",
    "weekday_map1 = {0: 'pickup_Sunday', 1: 'pickup_Monday', 2: 'pickup_Tuesday', 3: 'pickup_Wednesday', 4: 'pickup_Thursday', 5: 'pickup_Friday', 6: 'pickup_Saturday'}\n",
    "# Use the dt.weekday method to get the weekday number and map it to the corresponding weekday name\n",
    "df['pickup_days'] = df['pickup_datetime'].dt.weekday.map(weekday_map1)\n",
    "\n"
   ]
  },
  {
   "cell_type": "code",
   "execution_count": null,
   "id": "7879fc81",
   "metadata": {
    "scrolled": true
   },
   "outputs": [],
   "source": [
    "df.head()"
   ]
  },
  {
   "cell_type": "code",
   "execution_count": null,
   "id": "73375344",
   "metadata": {},
   "outputs": [],
   "source": [
    "# Define the dictionary mapping weekday numbers to weekday names\n",
    "weekday_map2 = {0: 'dropoff_Sunday', 1: 'dropoff_Monday', 2: 'dropoff_Tuesday', 3: 'dropoff_Wednesday', 4: 'dropoff_Thursday', 5: 'dropoff_Friday', 6: 'dropoff_Saturday'}\n",
    "\n",
    "# Use the dt.weekday method to get the weekday number and map it to the corresponding weekday name\n",
    "df['dropoff_day'] = df['pickup_datetime'].dt.weekday.map(weekday_map2)\n",
    "\n"
   ]
  },
  {
   "cell_type": "code",
   "execution_count": null,
   "id": "ebd6489e",
   "metadata": {
    "scrolled": true
   },
   "outputs": [],
   "source": [
    "df.head()"
   ]
  },
  {
   "cell_type": "code",
   "execution_count": null,
   "id": "337aab5c",
   "metadata": {},
   "outputs": [],
   "source": [
    "check_trip_duration = (df['dropoff_datetime']-df['pickup_datetime']).dt.total_seconds()\n",
    "df['duration_difference']= np.abs(check_trip_duration-df['trip_duration'])\n",
    "duration_difference = df.query('duration_difference > 1')\n"
   ]
  },
  {
   "cell_type": "code",
   "execution_count": null,
   "id": "6cea25fa",
   "metadata": {},
   "outputs": [],
   "source": [
    "duration_difference.shape"
   ]
  },
  {
   "cell_type": "markdown",
   "id": "392911e8",
   "metadata": {},
   "source": [
    "### Target Exploration"
   ]
  },
  {
   "cell_type": "code",
   "execution_count": null,
   "id": "5a642c9d",
   "metadata": {},
   "outputs": [],
   "source": [
    "#df.head()\n",
    "df['trip_duration'].describe()"
   ]
  },
  {
   "cell_type": "code",
   "execution_count": null,
   "id": "d7e20c6d",
   "metadata": {},
   "outputs": [],
   "source": [
    "df['log_trip_duration']=np.log10((df['trip_duration']*3600).values+1)"
   ]
  },
  {
   "cell_type": "code",
   "execution_count": null,
   "id": "48a5f21f",
   "metadata": {},
   "outputs": [],
   "source": [
    "df.describe()"
   ]
  },
  {
   "cell_type": "code",
   "execution_count": null,
   "id": "01a1839c",
   "metadata": {},
   "outputs": [],
   "source": [
    " sns.distplot(df['log_trip_duration']).set(title='Distribution Plot with Log base 10 Transformation for Trip Duration')\n",
    "# #plt.axvline(x=2.7, color=\"b\")\n",
    " plt.show()\n"
   ]
  },
  {
   "cell_type": "code",
   "execution_count": null,
   "id": "9b75f7ae",
   "metadata": {},
   "outputs": [],
   "source": []
  },
  {
   "cell_type": "markdown",
   "id": "23534c21",
   "metadata": {},
   "source": [
    "## Univariate Visualization"
   ]
  },
  {
   "cell_type": "code",
   "execution_count": null,
   "id": "0ab08dcd",
   "metadata": {},
   "outputs": [],
   "source": [
    "fig, axes = plt.subplots(nrows=1, ncols=3, figsize=(15, 4),\n",
    "                         gridspec_kw={'width_ratios': [4, 3, 3]})\n",
    "#plt.figure(figsize=(33,10))\n",
    "#passenger count plot\n",
    "plt.subplot(131)\n",
    "ax=sns.countplot(x='passenger_count',data=df, palette=sns.color_palette(\"husl\"))\n",
    "plt.xlabel('passenger count')\n",
    "plt.ylabel('Frequency')\n",
    "for p in ax.patches:\n",
    "        ax.annotate('{:.0f}'.format(p.get_height()), (p.get_x()+0.3, p.get_height()),\n",
    "                    ha='center', va='bottom',\n",
    "                    color= 'black',fontsize=12)\n",
    "\n",
    "#vendor_id plot\n",
    "plt.subplot(132)\n",
    "ax=sns.countplot(x='vendor_id', data=df, palette=sns.color_palette(\"husl\"))\n",
    "plt.xlabel(\"vendor id\")\n",
    "plt.ylabel(\"Frequency\")\n",
    "for p in ax.patches:\n",
    "        ax.annotate('{:.0f}'.format(p.get_height()), (p.get_x()+0.3, p.get_height()),\n",
    "                    ha='center', va='bottom',\n",
    "                    color= 'black',fontsize=12)\n",
    "\n",
    "\n",
    "#store_and_fwd_flag plot\n",
    "plt.subplot(133)\n",
    "ax=sns.countplot(x='store_and_fwd_flag', data=df, palette=sns.color_palette('husl'))\n",
    "plt.xlabel(\"store and fwd flag\")\n",
    "plt.ylabel(\"Frequency\")\n",
    "for p in ax.patches:\n",
    "        ax.annotate('{:.0f}'.format(p.get_height()), (p.get_x()+0.3, p.get_height()),\n",
    "                    ha='center', va='bottom',\n",
    "                    color= 'black',fontsize=12)"
   ]
  },
  {
   "cell_type": "code",
   "execution_count": null,
   "id": "41512177",
   "metadata": {},
   "outputs": [],
   "source": []
  },
  {
   "cell_type": "markdown",
   "id": "6099ad6b",
   "metadata": {},
   "source": [
    "Observations:\n",
    "1. Most of the trips involve only 1 passenger. There are trips with 7-9 passengers but they are very low in number.\n",
    "2. Vendor 2 has more number of trips as compared to vendor 1\n",
    "3. The store_and_fwd_flag values, indicating whether the trip data was sent immediately to the vendor (“0”) or held in the memory of the taxi because there was no connection to the server (“1”), show that there was almost no storing taking place"
   ]
  },
  {
   "cell_type": "code",
   "execution_count": null,
   "id": "5db4a505",
   "metadata": {},
   "outputs": [],
   "source": [
    "df['pickup_datetime'].max(), df['pickup_datetime'].min()"
   ]
  },
  {
   "cell_type": "code",
   "execution_count": null,
   "id": "5ab18c78",
   "metadata": {},
   "outputs": [],
   "source": [
    "df['dropoff_datetime'].max(), df['dropoff_datetime'].min()"
   ]
  },
  {
   "cell_type": "code",
   "execution_count": null,
   "id": "d943c394",
   "metadata": {
    "scrolled": true
   },
   "outputs": [],
   "source": [
    "#datetime plot\n",
    "fig,axes=plt.subplots(nrows=1, ncols=2, figsize=(22,6),gridspec_kw={'width_ratios':[1,1]})\n",
    "                \n",
    "#weekday pickup count plot\n",
    "ax=plt.subplot(121)\n",
    "sns.countplot(x='pickup_weekday',data=df, palette=sns.color_palette('husl'))\n",
    "plt.xlabel('week day')\n",
    "plt.ylabel('Total Number of Pickups')\n",
    "for p in ax.patches:\n",
    "        ax.annotate('{:.0f}'.format(p.get_height()), (p.get_x()+0.3, p.get_height()),\n",
    "                    ha='center', va='bottom',\n",
    "                    color= 'black')\n",
    "\n",
    "#hour wise pickup count plot\n",
    "ax=plt.subplot(122)\n",
    "sns.countplot(x='pickup_hour',data=df, palette=sns.color_palette('husl'))\n",
    "plt.xlabel('pickup_hour')\n",
    "plt.ylabel('Total Number of Pickups')\n",
    "for p in ax.patches:\n",
    "        ax.annotate('{:.0f}'.format(p.get_height()), (p.get_x()+0.3, p.get_height()),\n",
    "                    ha='center', va='bottom',\n",
    "                    color= 'black')"
   ]
  },
  {
   "cell_type": "markdown",
   "id": "dc4bc0c7",
   "metadata": {},
   "source": [
    "* Number of pickups for weekends is much lower than week days with a peak on Thursday (4). Note that here weekday is a decimal number, where 0 is Sunday and 6 is Saturday.\n",
    "* Number of pickups as expected is highest in late evenings. However, it is much lower during the morning peak hours."
   ]
  },
  {
   "cell_type": "code",
   "execution_count": null,
   "id": "63c6d8a8",
   "metadata": {},
   "outputs": [],
   "source": []
  },
  {
   "cell_type": "code",
   "execution_count": null,
   "id": "52726517",
   "metadata": {},
   "outputs": [],
   "source": [
    "fig, axes = plt.subplots(nrows=1, ncols=2,figsize=(12,5))\n",
    "ax = df['vendor_id'].value_counts().plot(kind='bar',title=\"Vendors\",ax=axes[0],color = ('blue',(1, 0.5, 0.13)))\n",
    "df['vendor_id'].value_counts().plot(kind='pie',title=\"Vendors\",ax=axes[1])\n",
    "ax.set_ylabel(\"Count\")\n",
    "ax.set_xlabel(\"Vendor Id\")\n",
    "fig.tight_layout()"
   ]
  },
  {
   "cell_type": "code",
   "execution_count": null,
   "id": "97115700",
   "metadata": {},
   "outputs": [],
   "source": []
  },
  {
   "cell_type": "code",
   "execution_count": null,
   "id": "f3cb2b9d",
   "metadata": {},
   "outputs": [],
   "source": [
    "import folium\n",
    "from folium.plugins import HeatMap\n",
    "\n",
    "#Create map centered on New York City\n",
    "nyc_coords = (40.712776, -74.005974)\n",
    "m = folium.Map(location=nyc_coords, zoom_start=11,width=\"100%\", height=\"100%\")\n",
    "\n",
    "#Create HeatMap using pickup latitude and longitude\n",
    "heat_data = df[['pickup_latitude', 'pickup_longitude']].values.tolist()\n",
    "HeatMap(heat_data, radius=8, max_zoom=13).add_to(m)\n",
    "\n",
    "#Display map\n",
    "m"
   ]
  },
  {
   "cell_type": "markdown",
   "id": "bf7d161c",
   "metadata": {},
   "source": [
    "### Lattitude & Longitude"
   ]
  },
  {
   "cell_type": "code",
   "execution_count": null,
   "id": "696e791c",
   "metadata": {},
   "outputs": [],
   "source": []
  },
  {
   "cell_type": "code",
   "execution_count": null,
   "id": "64efac93",
   "metadata": {},
   "outputs": [],
   "source": [
    "with sns.plotting_context(\"notebook\"):\n",
    "            sns.set(style=\"white\", palette=sns.color_palette(\"husl\"), color_codes=True)\n",
    "            f, axes = plt.subplots(2,2,figsize=(10, 10), sharex=False, sharey = False)\n",
    "            sns.despine(left=True)\n",
    "#creating 4 different plots on four different variable selected\n",
    "            sns.histplot(df, x=\"pickup_latitude\",  element=\"step\", kde=True, stat=\"density\",color=\"pink\", common_norm=False, fill=False, bins=100, ax=axes[0,0])\n",
    "            sns.histplot(df, x=\"pickup_longitude\",  element=\"step\", kde=True, stat=\"density\", color=\"g\",common_norm=False, fill=False, bins=100, ax=axes[1,0])\n",
    "            sns.histplot(df, x=\"dropoff_latitude\",  element=\"step\", kde=True, stat=\"density\", color=\"b\",common_norm=False, fill=False, bins=100, ax=axes[0,1])\n",
    "            sns.histplot(df, x=\"dropoff_longitude\", element=\"step\", kde=True, stat=\"density\", color=\"r\",common_norm=False, fill=False, bins=100, ax=axes[1,1])\n",
    "\n",
    "            #plt.setp(axes, yticks=[])\n",
    "            plt.tight_layout()\n",
    "            plt.show()\n"
   ]
  },
  {
   "cell_type": "code",
   "execution_count": null,
   "id": "1013f9d0",
   "metadata": {},
   "outputs": [],
   "source": []
  },
  {
   "cell_type": "code",
   "execution_count": null,
   "id": "5ec7a530",
   "metadata": {},
   "outputs": [],
   "source": []
  },
  {
   "cell_type": "code",
   "execution_count": null,
   "id": "2647ebc7",
   "metadata": {},
   "outputs": [],
   "source": []
  },
  {
   "cell_type": "code",
   "execution_count": null,
   "id": "6c813a21",
   "metadata": {},
   "outputs": [],
   "source": []
  },
  {
   "cell_type": "code",
   "execution_count": null,
   "id": "e39ebe54",
   "metadata": {
    "scrolled": true
   },
   "outputs": [],
   "source": [
    "df.head()"
   ]
  },
  {
   "cell_type": "markdown",
   "id": "fd468430",
   "metadata": {},
   "source": [
    "### Bivariate Relations with Target\n",
    "Now that we have gone through all the basic features one by one. Let us start looking at their relation with the target. This will help us in selecting and extracting features at the modelling stage."
   ]
  },
  {
   "cell_type": "markdown",
   "id": "315f742b",
   "metadata": {},
   "source": [
    "### Trip Duration vs Weekday"
   ]
  },
  {
   "cell_type": "code",
   "execution_count": null,
   "id": "8da02476",
   "metadata": {},
   "outputs": [],
   "source": [
    "df.columns"
   ]
  },
  {
   "cell_type": "code",
   "execution_count": null,
   "id": "ba6bb7a3",
   "metadata": {
    "scrolled": true
   },
   "outputs": [],
   "source": [
    "# Setting the size of the plot\n",
    "\n",
    "fig,axes=plt.subplots(nrows=1, ncols=2, figsize=(22,6),gridspec_kw={'width_ratios':[1,1]})\n",
    "#selecting the spot between the two places to draw the plot\n",
    "plt.subplot(121)\n",
    "#Using median, we are creating the plot for pickup days with trip duration\n",
    "summary_wdays_avg_duration = pd.DataFrame(df.groupby(['pickup_weekday'])['trip_duration'].median())\n",
    "summary_wdays_avg_duration.reset_index(inplace = True)\n",
    "summary_wdays_avg_duration['unit']=1\n",
    "\n",
    "sns.set(style=\"white\", palette=\"muted\", color_codes=True)\n",
    "sns.set_context(\"poster\")\n",
    "sns.lineplot(data=summary_wdays_avg_duration, x=\"pickup_weekday\",units=\"unit\", y=\"trip_duration\")\n",
    "sns.despine(bottom = False)\n",
    "\n",
    "plt.subplot(122)\n",
    "#Using median, we are creating the plot for pickup hours with trip duration\n",
    "summary_hourly_avg_duration = pd.DataFrame(df.groupby(['pickup_hour'])['trip_duration'].median())\n",
    "summary_hourly_avg_duration.reset_index(inplace = True)\n",
    "summary_hourly_avg_duration['unit']=1\n",
    "\n",
    "sns.set(style=\"white\", palette=\"muted\", color_codes=True)\n",
    "sns.set_context(\"poster\")\n",
    "sns.lineplot(data=summary_hourly_avg_duration, x=\"pickup_hour\", units = \"unit\", y=\"trip_duration\")\n",
    "sns.despine(bottom = False)"
   ]
  },
  {
   "cell_type": "code",
   "execution_count": null,
   "id": "d478ddb0",
   "metadata": {},
   "outputs": [],
   "source": []
  },
  {
   "cell_type": "markdown",
   "id": "c1bc1114",
   "metadata": {},
   "source": [
    "### Mean Trip Duration Vendor Wise"
   ]
  },
  {
   "cell_type": "code",
   "execution_count": null,
   "id": "d6614235",
   "metadata": {},
   "outputs": [],
   "source": [
    "#setting the size of the plot and the ratio of two plots\n",
    "\n",
    "fig,axes=plt.subplots(nrows=1, ncols=2, figsize=(22,6),gridspec_kw={'width_ratios':[1,1]})\n",
    "\n",
    "plt.subplot(121)\n",
    "\n",
    "# Generating plot with two variable on x-axis using mean\n",
    "\n",
    "summary_wdays_avg_duration = pd.DataFrame(df.groupby(['vendor_id','pickup_weekday'])['trip_duration'].mean())\n",
    "summary_wdays_avg_duration.reset_index(inplace = True)\n",
    "summary_wdays_avg_duration['unit']=1\n",
    "\n",
    "# Setting style for the plot\n",
    "\n",
    "sns.set(style=\"white\", palette=\"muted\", color_codes=True)\n",
    "sns.set_context(\"poster\")\n",
    "sns.lineplot(data=summary_wdays_avg_duration, x=\"pickup_weekday\",hue=\"vendor_id\",palette=\"Set2\", y=\"trip_duration\")\n",
    "sns.despine(bottom = False)\n",
    "\n",
    "# Generating the same plot as above, the difference only is this plot will be in reference to median\n",
    "\n",
    "plt.subplot(122)\n",
    "summary_wdays_avg_duration = pd.DataFrame(df.groupby(['vendor_id','pickup_weekday'])['trip_duration'].median())\n",
    "summary_wdays_avg_duration.reset_index(inplace = True)\n",
    "summary_wdays_avg_duration['unit']=1\n",
    "\n",
    "sns.set(style=\"white\", palette=\"muted\", color_codes=True)\n",
    "sns.set_context(\"poster\")\n",
    "sns.lineplot(data=summary_wdays_avg_duration, x='pickup_weekday', units = \"unit\",palette='Set2', hue=\"vendor_id\", y=\"trip_duration\")\n",
    "sns.despine(bottom =False)\n",
    "\n"
   ]
  },
  {
   "cell_type": "markdown",
   "id": "1be3065a",
   "metadata": {},
   "source": [
    "### Trip Duration vs Passenger Count"
   ]
  },
  {
   "cell_type": "code",
   "execution_count": null,
   "id": "b7a5ae6f",
   "metadata": {
    "scrolled": true
   },
   "outputs": [],
   "source": [
    "# couting the trips with respect to number of passenger in each trip to find outlier\n",
    "df.passenger_count.value_counts()"
   ]
  },
  {
   "cell_type": "code",
   "execution_count": null,
   "id": "15b8a36c",
   "metadata": {
    "scrolled": true
   },
   "outputs": [],
   "source": [
    "# Generating box plot with respect to passenger_count and trip_duration\n",
    "\n",
    "df.passenger_count.value_counts()\n",
    "\n",
    "plt.figure(figsize=(22, 6))\n",
    "\n",
    "df_sub = df[df['trip_duration']*3600 < 10000]\n",
    "\n",
    "sns.boxplot(x=\"passenger_count\", y=\"trip_duration\", data=df_sub)\n",
    "\n",
    "plt.show()\n",
    "\n"
   ]
  },
  {
   "cell_type": "markdown",
   "id": "0fe2e5f9",
   "metadata": {},
   "source": [
    "### The relationship between vendor id and duration"
   ]
  },
  {
   "cell_type": "code",
   "execution_count": null,
   "id": "64c27742",
   "metadata": {},
   "outputs": [],
   "source": [
    "import matplotlib.pyplot as plt\n",
    "import seaborn as sns\n",
    "\n",
    "# Generating line plot for pickout_hour\n",
    "\n",
    "group1 = df.groupby('pickup_hour').trip_duration.mean().to_frame().reset_index()\n",
    "\n",
    "plt.figure(figsize=(10,6))\n",
    "\n",
    "sns.pointplot(x='pickup_hour', y='trip_duration', data=group1)\n",
    "\n",
    "plt.ylabel('Trip Duration (hour)')\n",
    "\n",
    "plt.xlabel('Pickup Hour')\n",
    "\n",
    "plt.show()"
   ]
  },
  {
   "cell_type": "code",
   "execution_count": null,
   "id": "d4ba2700",
   "metadata": {
    "scrolled": true
   },
   "outputs": [],
   "source": []
  },
  {
   "cell_type": "markdown",
   "id": "53d69e63",
   "metadata": {},
   "source": [
    "### Pick Up Points v/s Dropoff Points"
   ]
  },
  {
   "cell_type": "code",
   "execution_count": null,
   "id": "d7779e54",
   "metadata": {},
   "outputs": [],
   "source": [
    "df.columns"
   ]
  },
  {
   "cell_type": "code",
   "execution_count": null,
   "id": "8c582ac2",
   "metadata": {},
   "outputs": [],
   "source": [
    "city_long_border = (-74.03, -73.75)\n",
    "city_lat_border = (40.63, 40.85)\n",
    "fig, ax = plt.subplots(ncols=2, sharex=True, sharey=True,figsize = (12,5))\n",
    "ax[0].scatter(df['pickup_longitude'].values, df['pickup_latitude'].values,\n",
    "color='blue', s=1, label='train', alpha=0.1)\n",
    "ax[1].scatter(df['dropoff_longitude'].values, df['dropoff_latitude'].values,\n",
    "color='green', s=1, label='train', alpha=0.1)\n",
    "ax[1].set_title('Drop-off Co-ordinates')\n",
    "ax[0].set_title('Pick-up Co-ordinates')\n",
    "ax[0].set_ylabel('Latitude')\n",
    "ax[0].set_xlabel('Longitude')\n",
    "ax[1].set_ylabel('Latitude')\n",
    "ax[1].set_xlabel('Longitude')\n",
    "plt.ylim(city_lat_border)\n",
    "plt.xlim(city_long_border)\n",
    "plt.show()"
   ]
  },
  {
   "cell_type": "code",
   "execution_count": null,
   "id": "6b4ae070",
   "metadata": {},
   "outputs": [],
   "source": []
  },
  {
   "cell_type": "code",
   "execution_count": null,
   "id": "3ad7e8e3",
   "metadata": {},
   "outputs": [],
   "source": []
  },
  {
   "cell_type": "markdown",
   "id": "58f58430",
   "metadata": {},
   "source": [
    "## Evaluation Metric (MAE)\n",
    "- A suitable evaluation metric would be Mean Absolute Error (MAE). MAE is the average of the absolute differences between the predicted and actual values. This metric is preferred because it gives equal weightage to all errors and is less sensitive to outliers compared to other metrics such as Root Mean Squared Error (RMSE)."
   ]
  },
  {
   "cell_type": "markdown",
   "id": "2a6b8535",
   "metadata": {},
   "source": [
    "### Bencmark Model"
   ]
  },
  {
   "cell_type": "code",
   "execution_count": null,
   "id": "16412e1e",
   "metadata": {},
   "outputs": [],
   "source": [
    "dfben=df.copy()"
   ]
  },
  {
   "cell_type": "code",
   "execution_count": null,
   "id": "91dae9fd",
   "metadata": {},
   "outputs": [],
   "source": [
    "from sklearn.utils import shuffle\n",
    "dfben= shuffle(dfben, random_state=10)"
   ]
  },
  {
   "cell_type": "code",
   "execution_count": null,
   "id": "d477f9d3",
   "metadata": {},
   "outputs": [],
   "source": [
    "# diividing dataset in 3:1 ratio\n",
    "\n",
    "div=int(df.shape[0]/4)\n",
    "\n",
    "Train=dfben.loc[:3*div+1,:]\n",
    "Test= dfben.loc[3*div+1:]\n"
   ]
  },
  {
   "cell_type": "code",
   "execution_count": null,
   "id": "9cd9a494",
   "metadata": {},
   "outputs": [],
   "source": [
    "#Train.head()\n"
   ]
  },
  {
   "cell_type": "code",
   "execution_count": null,
   "id": "f6b6d3da",
   "metadata": {},
   "outputs": [],
   "source": [
    "Test.head()"
   ]
  },
  {
   "cell_type": "code",
   "execution_count": null,
   "id": "6e4f23ac",
   "metadata": {},
   "outputs": [],
   "source": [
    "# Taking mean of trip_duration  column from Train part of dataset\n",
    "\n",
    "Test['mean_trip_duration']=Train['trip_duration'].mean()\n",
    "#Test.head()\n"
   ]
  },
  {
   "cell_type": "code",
   "execution_count": null,
   "id": "51693fea",
   "metadata": {},
   "outputs": [],
   "source": [
    "from sklearn.metrics import mean_absolute_error as MAE\n",
    "# Finding Mean Absolute Error \n",
    "simple_mean_error=MAE(Test['trip_duration'],Test['mean_trip_duration'])\n",
    "simple_mean_error"
   ]
  },
  {
   "cell_type": "markdown",
   "id": "7002a906",
   "metadata": {},
   "source": [
    "### mean error for pickup_day with respect to mean_trip_duration"
   ]
  },
  {
   "cell_type": "code",
   "execution_count": null,
   "id": "88509d0a",
   "metadata": {},
   "outputs": [],
   "source": [
    "# Making a pivot table for particular columns\n",
    "week_day=pd.pivot_table(Train, values='trip_duration', index=['pickup_weekday'], aggfunc=np.mean)\n",
    "week_day"
   ]
  },
  {
   "cell_type": "code",
   "execution_count": null,
   "id": "8c6cdaf2",
   "metadata": {},
   "outputs": [],
   "source": [
    "# Applying for loop in order to store unique values in a given column\n",
    "Test['week_day_mean']=0\n",
    "\n",
    "for i in Train['pickup_weekday'].unique():\n",
    "# Assigning the unique value to a new created column after posing some operations on train dataset\n",
    "\n",
    "    Test['week_day_mean'][Test['pickup_weekday']==str(i)]=Train['trip_duration'][Train['pickup_weekday']==str(i)].mean()\n"
   ]
  },
  {
   "cell_type": "code",
   "execution_count": null,
   "id": "182daee0",
   "metadata": {},
   "outputs": [],
   "source": [
    "# Againg finding Mean Absolute Error\n",
    "pickup_weekday_error=MAE(Test['trip_duration'],Test['week_day_mean'])\n",
    "pickup_weekday_error"
   ]
  },
  {
   "cell_type": "markdown",
   "id": "c9c73762",
   "metadata": {},
   "source": [
    "#### Mean trip_duration_hour with respect to passenger_count"
   ]
  },
  {
   "cell_type": "code",
   "execution_count": null,
   "id": "291a7c4e",
   "metadata": {},
   "outputs": [],
   "source": [
    "#trip_duration_hour mean with respect to the mean of passenger_count\n",
    "\n",
    "pass_count = pd.pivot_table(Train, values='trip_duration', index = [\"passenger_count\"], aggfunc=np.mean)\n",
    "pass_count"
   ]
  },
  {
   "cell_type": "code",
   "execution_count": null,
   "id": "d897aa9e",
   "metadata": {},
   "outputs": [],
   "source": [
    "# Applying for loop to collect unique values\n",
    "Test['pass_count_mean']=0\n",
    "for i in Train['passenger_count'].unique():\n",
    "    \n",
    "    Test['pass_count_mean'][Test['passenger_count']==str(i)]=Train['trip_duration'][Train['passenger_count']==str(i)].mean()\n",
    "    "
   ]
  },
  {
   "cell_type": "code",
   "execution_count": null,
   "id": "8ff8bf29",
   "metadata": {},
   "outputs": [],
   "source": [
    "pass_count_error=MAE(Test['trip_duration'],Test['pass_count_mean'])\n",
    "pass_count_error"
   ]
  },
  {
   "cell_type": "markdown",
   "id": "bb8035c7",
   "metadata": {},
   "source": [
    "####  pickup_day vs trip_duration"
   ]
  },
  {
   "cell_type": "code",
   "execution_count": null,
   "id": "472a3ab1",
   "metadata": {},
   "outputs": [],
   "source": [
    "pick_up=pd.pivot_table(Train, values='trip_duration',index='pickup_day', aggfunc=np.mean)\n",
    "pick_up"
   ]
  },
  {
   "cell_type": "code",
   "execution_count": null,
   "id": "ae3e520c",
   "metadata": {},
   "outputs": [],
   "source": [
    "Test['pick_mean']=0\n",
    "for i in Train['pickup_day'].unique():\n",
    "    Test['pick_mean'][Test['pickup_day']==str(i)]=Train['trip_duration'][Train['pickup_day']==str(i)].mean()\n",
    "    \n"
   ]
  },
  {
   "cell_type": "code",
   "execution_count": null,
   "id": "044bd182",
   "metadata": {
    "scrolled": true
   },
   "outputs": [],
   "source": [
    "\n"
   ]
  },
  {
   "cell_type": "code",
   "execution_count": null,
   "id": "04fe2d12",
   "metadata": {},
   "outputs": [],
   "source": [
    "pickup_day_error=MAE(Test['trip_duration'],Test['pick_mean'])\n",
    "pickup_day_error"
   ]
  },
  {
   "cell_type": "code",
   "execution_count": null,
   "id": "2eeb8d41",
   "metadata": {
    "scrolled": true
   },
   "outputs": [],
   "source": [
    "Test.head()\n",
    "#Test.shape\n",
    "#Test.describe()"
   ]
  },
  {
   "cell_type": "markdown",
   "id": "f2c625e4",
   "metadata": {},
   "source": [
    "### Mean trip_duration_hour with respect to passenger_count, pickup_time_of_day and dropoff_time_of_day"
   ]
  },
  {
   "cell_type": "code",
   "execution_count": null,
   "id": "89be104d",
   "metadata": {},
   "outputs": [],
   "source": [
    "combo = pd.pivot_table(Train, values = 'trip_duration', index = ['passenger_count','pickup_time_of_day','dropoff_time_of_day'], aggfunc = np.mean)\n",
    "combo"
   ]
  },
  {
   "cell_type": "code",
   "execution_count": null,
   "id": "1f3075b3",
   "metadata": {},
   "outputs": [],
   "source": []
  },
  {
   "cell_type": "code",
   "execution_count": null,
   "id": "26f3608e",
   "metadata": {},
   "outputs": [],
   "source": [
    "# Define the three columns to group by\n",
    "group_cols = ['passenger_count', 'pickup_time_of_day', 'dropoff_time_of_day']\n",
    "\n",
    "# Calculate the mean of trip_duration for each group in the train dataset\n",
    "train_group_means = Train.groupby(group_cols)['trip_duration'].transform('mean')\n",
    "\n",
    "# Assign the mean value to the Super_mean column in the test dataset\n",
    "Test['Super_mean'] = train_group_means\n"
   ]
  },
  {
   "cell_type": "code",
   "execution_count": null,
   "id": "25babb17",
   "metadata": {},
   "outputs": [],
   "source": [
    "Test.dropna(subset=['Super_mean'], inplace=True)"
   ]
  },
  {
   "cell_type": "code",
   "execution_count": null,
   "id": "6f05912e",
   "metadata": {},
   "outputs": [],
   "source": [
    "#calculating mean absolute error\n",
    "super_mean_error = MAE(Test['trip_duration'] , Test['Super_mean'] )\n",
    "super_mean_error\n"
   ]
  },
  {
   "cell_type": "markdown",
   "id": "c0531da6",
   "metadata": {},
   "source": [
    "### Mean trip_duration_hour with respect store_and_fwd_flag"
   ]
  },
  {
   "cell_type": "code",
   "execution_count": null,
   "id": "4617b475",
   "metadata": {},
   "outputs": [],
   "source": [
    "flag=pd.pivot_table(Train, values='trip_duration', index='store_and_fwd_flag', aggfunc=np.mean)\n",
    "flag"
   ]
  },
  {
   "cell_type": "code",
   "execution_count": null,
   "id": "444a695f",
   "metadata": {},
   "outputs": [],
   "source": [
    "Test['Flag_mean']=0\n",
    "\n",
    "for i in Train['store_and_fwd_flag'].unique():\n",
    "    \n",
    "    Test['Flag_mean'][Test['store_and_fwd_flag']==str(i)]=Train['trip_duration'][Train['store_and_fwd_flag']==str(i)].mean()\n",
    "    "
   ]
  },
  {
   "cell_type": "code",
   "execution_count": null,
   "id": "6780c525",
   "metadata": {},
   "outputs": [],
   "source": [
    "flag_mean_error=MAE(Test['trip_duration'],Test['Flag_mean'])\n",
    "flag_mean_error"
   ]
  },
  {
   "cell_type": "markdown",
   "id": "c5c3cab2",
   "metadata": {},
   "source": [
    "### Conclusion"
   ]
  },
  {
   "cell_type": "markdown",
   "id": "30a81dcd",
   "metadata": {},
   "source": [
    "1) The error of simple mean of trip duration hour is 0.17277651586027712 which is also almost equal to MAE of dropp time and     pickup time of the day is 0.17263892934259373, 0.17262796487353846 respectively\n",
    "\n",
    "2) The str_fwd_error and passanger count error is same i.e. 0.2652592807074405\n",
    "\n",
    "3) The mean of trip_duration_hour with respect to pickup_time_error , dropoff_time_error and pass_count error is      0.16813712281281915"
   ]
  },
  {
   "cell_type": "markdown",
   "id": "4b16974d",
   "metadata": {},
   "source": [
    "# KNN Analysis"
   ]
  },
  {
   "cell_type": "code",
   "execution_count": null,
   "id": "6e063ae6",
   "metadata": {},
   "outputs": [],
   "source": [
    "# Create a copy of initial dataset df so that it doesn't get modified too much\n",
    "dfmath=df.copy()"
   ]
  },
  {
   "cell_type": "code",
   "execution_count": null,
   "id": "25251b6b",
   "metadata": {},
   "outputs": [],
   "source": [
    "#dfmath.shape\n",
    "#df.describe()\n",
    "dfmath.columns"
   ]
  },
  {
   "cell_type": "code",
   "execution_count": null,
   "id": "6d4dd20e",
   "metadata": {},
   "outputs": [],
   "source": []
  },
  {
   "cell_type": "code",
   "execution_count": null,
   "id": "8ff4d5f8",
   "metadata": {},
   "outputs": [],
   "source": [
    "import numpy as np\n",
    "\n",
    "def haversine(lat1, lon1, lat2, lon2):\n",
    "    R = 6371  # Radius of the earth in km\n",
    "    dlat = np.radians(lat2 - lat1)\n",
    "    dlon = np.radians(lon2 - lon1)\n",
    "    a = np.sin(dlat / 2) ** 2 + np.cos(np.radians(lat1)) * np.cos(np.radians(lat2)) * np.sin(dlon / 2) ** 2\n",
    "    c = 2 * np.arctan2(np.sqrt(a), np.sqrt(1 - a))\n",
    "    distance_km = R * c\n",
    "    return distance_km\n",
    "\n",
    "# Calculate the distance for each row in the dataset\n",
    "dfmath['distance_km'] = haversine(dfmath['pickup_latitude'], dfmath['pickup_longitude'], dfmath['dropoff_latitude'], dfmath['dropoff_longitude'])\n",
    "print(dfmath['distance_km'].describe())"
   ]
  },
  {
   "cell_type": "code",
   "execution_count": null,
   "id": "9abb1c7d",
   "metadata": {},
   "outputs": [],
   "source": []
  },
  {
   "cell_type": "code",
   "execution_count": null,
   "id": "49a95fd6",
   "metadata": {},
   "outputs": [],
   "source": []
  },
  {
   "cell_type": "code",
   "execution_count": null,
   "id": "9d00d048",
   "metadata": {},
   "outputs": [],
   "source": [
    "\n"
   ]
  },
  {
   "cell_type": "code",
   "execution_count": null,
   "id": "1c6e2d47",
   "metadata": {},
   "outputs": [],
   "source": [
    "dfknn=dfmath.copy()"
   ]
  },
  {
   "cell_type": "code",
   "execution_count": null,
   "id": "83830cae",
   "metadata": {},
   "outputs": [],
   "source": []
  },
  {
   "cell_type": "code",
   "execution_count": null,
   "id": "e9ae5f64",
   "metadata": {},
   "outputs": [],
   "source": [
    "# pd.options.display.float_format = '{:.6f}'.format\n",
    "# df['trip_duration']\n",
    "#df.head()\n",
    "#\n",
    "dfknn.columns"
   ]
  },
  {
   "cell_type": "code",
   "execution_count": null,
   "id": "649b9463",
   "metadata": {},
   "outputs": [],
   "source": [
    "print(dfknn['distance_km'].describe())\n"
   ]
  },
  {
   "cell_type": "code",
   "execution_count": null,
   "id": "8f80328c",
   "metadata": {},
   "outputs": [],
   "source": [
    "# Creating a scatter plot inorder to identify outlier\n",
    "plt.figure(figsize=(8, 6))\n",
    "a=dfknn['trip_duration']\n",
    "ax=sns.scatterplot(data=dfknn, x=a, y=\"distance_km\", s=50, palette='viridis', marker=\"s\")\n",
    "a.describe()\n"
   ]
  },
  {
   "cell_type": "code",
   "execution_count": null,
   "id": "3ce28aed",
   "metadata": {},
   "outputs": [],
   "source": [
    "dfknn[a>500]"
   ]
  },
  {
   "cell_type": "code",
   "execution_count": null,
   "id": "1db45db7",
   "metadata": {},
   "outputs": [],
   "source": [
    "dfknn[dfknn['distance_km']>300]"
   ]
  },
  {
   "cell_type": "code",
   "execution_count": null,
   "id": "87186152",
   "metadata": {},
   "outputs": [],
   "source": [
    "#Dropping the value from the dataset\n",
    "dfknn.drop(dfknn[dfknn['id'].isin(['id1864733', 'id2306955','id0982904','id2644780','id0116374','id0978162\t'])].index, inplace=True)"
   ]
  },
  {
   "cell_type": "code",
   "execution_count": null,
   "id": "69ba617d",
   "metadata": {},
   "outputs": [],
   "source": [
    "plt.figure(figsize=(8, 6))\n",
    "sns.scatterplot(data=dfknn, x=a, y=\"distance_km\", s=50, palette='viridis', marker=\"s\")"
   ]
  },
  {
   "cell_type": "code",
   "execution_count": null,
   "id": "44520eea",
   "metadata": {},
   "outputs": [],
   "source": [
    "# Binary Features\n",
    "plt.figure(figsize=(22, 6))\n",
    "#fig, axs = plt.subplot(ncols=2)\n",
    "\n",
    "# Passenger Count\n",
    "plt.subplot(121)\n",
    "ax=sns.countplot(data=dfknn, x='passenger_count',palette=sns.color_palette('husl'))\n",
    "plt.xlabel('Passenger Count')\n",
    "plt.ylabel('Frequency')\n",
    "for p in ax.patches:\n",
    "        ax.annotate('{:.0f}'.format(p.get_height()), (p.get_x()+0.3, p.get_height()),\n",
    "                    ha='center', va='bottom',\n",
    "                    color= 'black')"
   ]
  },
  {
   "cell_type": "code",
   "execution_count": null,
   "id": "29216c8d",
   "metadata": {},
   "outputs": [],
   "source": [
    "dfknn = dfknn.loc[~dfknn['passenger_count'].isin([0, 7, 9])]"
   ]
  },
  {
   "cell_type": "code",
   "execution_count": null,
   "id": "8e41f93a",
   "metadata": {},
   "outputs": [],
   "source": [
    "# Binary Features\n",
    "plt.figure(figsize=(22, 6))\n",
    "#fig, axs = plt.subplot(ncols=2)\n",
    "\n",
    "# Passenger Count\n",
    "plt.subplot(131)\n",
    "ax=sns.countplot(data=df, x='passenger_count',palette=sns.color_palette('husl'))\n",
    "plt.xlabel('Passenger Count')\n",
    "plt.ylabel('Frequency')\n",
    "for p in ax.patches:\n",
    "        ax.annotate('{:.0f}'.format(p.get_height()), (p.get_x()+0.3, p.get_height()),\n",
    "                    ha='center', va='bottom',\n",
    "                    color= 'black',fontsize=15)"
   ]
  },
  {
   "cell_type": "code",
   "execution_count": null,
   "id": "6faf6a7a",
   "metadata": {},
   "outputs": [],
   "source": [
    "import seaborn as sns\n",
    "import pandas as pd\n",
    "\n",
    "# Load the dataset\n",
    "\n",
    "# Compute the correlation matrix\n",
    "corr = dfknn.corr()\n",
    "fig, ax = plt.subplots(figsize=(35, 35))\n",
    "# Create a heatmap to visualize the correlation matrix\n",
    "sns.heatmap(corr, annot=True, cmap='coolwarm')"
   ]
  },
  {
   "cell_type": "code",
   "execution_count": null,
   "id": "9d7f7fc9",
   "metadata": {},
   "outputs": [],
   "source": [
    "import seaborn as sns\n",
    "import pandas as pd\n",
    "\n",
    "# Load the dataset\n",
    "\n",
    "# Compute the correlation matrix\n",
    "corr = Test.corr()\n",
    "fig, ax = plt.subplots(figsize=(35, 35))\n",
    "# Create a heatmap to visualize the correlation matrix\n",
    "sns.heatmap(corr, annot=True, cmap='coolwarm')"
   ]
  },
  {
   "cell_type": "code",
   "execution_count": null,
   "id": "3d9392a4",
   "metadata": {},
   "outputs": [],
   "source": [
    "dfknn.dtypes"
   ]
  },
  {
   "cell_type": "code",
   "execution_count": null,
   "id": "e8806624",
   "metadata": {},
   "outputs": [],
   "source": [
    "#d=dfknn\n",
    "#d.drop(columns=['pickup_day','dropoff_day','weekday_name''pickup_day','dropoff_day'],inplace=True)\n",
    "#d.drop(columns=['id','vendor_id','pickup_datetime','dropoff_datetime','pickup_date','dropoff_weekday','weekday_name','pickup_weekday'],inplace=True)\n",
    "#data.dtypes\n",
    "#print(type(df.loc[1, \"id\"]))\n",
    "#d.dtypes"
   ]
  },
  {
   "cell_type": "code",
   "execution_count": null,
   "id": "5d081c6e",
   "metadata": {},
   "outputs": [],
   "source": [
    "data = dfknn.iloc[1:18001,]\n",
    "cat_cols = ['pickup_time_of_day', 'dropoff_time_of_day']\n",
    "data = pd.concat([data, pd.get_dummies(data[cat_cols].astype('str'))], axis=1)\n",
    "data.drop(columns = ['pickup_time_of_day','pickup_datetime','dropoff_datetime', 'dropoff_time_of_day','id','vendor_id','pickup_date','pickup_days','dropoff_day'],inplace = True)\n",
    "data"
   ]
  },
  {
   "cell_type": "code",
   "execution_count": null,
   "id": "10b1a435",
   "metadata": {},
   "outputs": [],
   "source": [
    "#seperate features and target\n",
    "x = data.drop(['trip_duration'], axis=1)\n",
    "y = data[\"trip_duration\"]\n",
    "x.shape,y.shape"
   ]
  },
  {
   "cell_type": "code",
   "execution_count": null,
   "id": "9a2d841d",
   "metadata": {},
   "outputs": [],
   "source": [
    "#dfknn.drop(columns=['pickup_days'],inplace=True)"
   ]
  },
  {
   "cell_type": "code",
   "execution_count": null,
   "id": "88dea388",
   "metadata": {},
   "outputs": [],
   "source": [
    "# Importing MinMax Scaler\n",
    "\n",
    "from sklearn.preprocessing import MinMaxScaler\n",
    "scaler = MinMaxScaler()\n",
    "x_scaled = scaler.fit_transform(x)"
   ]
  },
  {
   "cell_type": "code",
   "execution_count": null,
   "id": "a8935812",
   "metadata": {},
   "outputs": [],
   "source": [
    "x = pd.DataFrame(x_scaled)"
   ]
  },
  {
   "cell_type": "code",
   "execution_count": null,
   "id": "32c12239",
   "metadata": {},
   "outputs": [],
   "source": [
    "# Importing Train test split\n",
    "from sklearn.model_selection import train_test_split\n",
    "train_x,test_x,train_y,test_y = train_test_split(x,y, random_state = 56)"
   ]
  },
  {
   "cell_type": "code",
   "execution_count": null,
   "id": "280cc37b",
   "metadata": {},
   "outputs": [],
   "source": [
    "#importing KNN regressor and metric mse\n",
    "from sklearn.neighbors import KNeighborsRegressor as KNN\n",
    "from sklearn.metrics import mean_absolute_error as MAE"
   ]
  },
  {
   "cell_type": "code",
   "execution_count": null,
   "id": "19968db7",
   "metadata": {},
   "outputs": [],
   "source": [
    "from sklearn.metrics import mean_squared_error, r2_score\n",
    "import numpy as np\n",
    "\n",
    "# Creating instance of KNN\n",
    "reg = KNN(n_neighbors = 5)\n",
    "\n",
    "# Fitting the model\n",
    "reg.fit(train_x, train_y)\n",
    "\n",
    "# Predicting over the Train Set and calculating MSE\n",
    "test_predict = reg.predict(test_x)\n",
    "k = MAE(test_predict, test_y)\n",
    "\n",
    "\n",
    "\n",
    "mse = mean_squared_error(test_y,test_predict,squared=False)\n",
    "rmse = np.sqrt(mse)\n",
    "r2 = r2_score(test_y,test_predict)\n",
    "\n",
    "print(\"RMSE:       \", rmse)\n",
    "print(\"R2:         \", r2)\n",
    "\n",
    "print('Test MAE    ', k )\n",
    "\n"
   ]
  },
  {
   "cell_type": "code",
   "execution_count": null,
   "id": "b04b464b",
   "metadata": {},
   "outputs": [],
   "source": [
    "def Elbow(K):\n",
    "  #initiating empty list\n",
    "    test_MAE = []\n",
    "  \n",
    "  #training model for evey value of K\n",
    "    for i in K:\n",
    "        #Instance of KNN\n",
    "        reg = KNN(n_neighbors = i)\n",
    "        reg.fit(train_x, train_y)\n",
    "        #Appending MAE value to empty list claculated using the predictions\n",
    "        tmp = reg.predict(test_x)\n",
    "        tmp = MAE(tmp,test_y)\n",
    "        test_MAE.append(tmp)\n",
    "    \n",
    "    return test_MAE"
   ]
  },
  {
   "cell_type": "code",
   "execution_count": null,
   "id": "8112c067",
   "metadata": {},
   "outputs": [],
   "source": [
    "#Defining K range\n",
    "k = range(1,10)"
   ]
  },
  {
   "cell_type": "code",
   "execution_count": null,
   "id": "3e6287dc",
   "metadata": {},
   "outputs": [],
   "source": [
    "test=Elbow(k)"
   ]
  },
  {
   "cell_type": "code",
   "execution_count": null,
   "id": "aebc613f",
   "metadata": {},
   "outputs": [],
   "source": [
    "# plotting the Curves\n",
    "plt.plot(k, test)\n",
    "plt.xlabel('K Neighbors')\n",
    "plt.ylabel('Test Mean Absolute Error')\n",
    "plt.title('Elbow Curve for test')"
   ]
  },
  {
   "cell_type": "code",
   "execution_count": null,
   "id": "2cff47c8",
   "metadata": {},
   "outputs": [],
   "source": [
    "knn_train_score = reg.score(train_x,train_y)\n",
    "print(knn_train_score*100,\"%\")"
   ]
  },
  {
   "cell_type": "code",
   "execution_count": null,
   "id": "9033d13b",
   "metadata": {},
   "outputs": [],
   "source": []
  },
  {
   "cell_type": "code",
   "execution_count": null,
   "id": "26919142",
   "metadata": {},
   "outputs": [],
   "source": [
    "knn_test_score = reg.score(test_x,test_y)\n",
    "knn_test_score*100"
   ]
  },
  {
   "cell_type": "code",
   "execution_count": null,
   "id": "f86bf558",
   "metadata": {},
   "outputs": [],
   "source": [
    "from sklearn.metrics import mean_squared_error, r2_score\n",
    "import numpy as np\n",
    "\n",
    "# Creating instance of KNN\n",
    "reg = KNN(n_neighbors = 3)\n",
    "\n",
    "# Fitting the model\n",
    "reg.fit(train_x, train_y)\n",
    "\n",
    "# Predicting over the Train Set and calculating MSE\n",
    "test_predict = reg.predict(test_x)\n",
    "k = MAE(test_predict, test_y)\n",
    "\n",
    "mse = mean_squared_error(test_y,test_predict,squared=False)\n",
    "rmse = np.sqrt(mse)\n",
    "r2 = r2_score(test_y,test_predict)\n",
    "\n",
    "\n",
    "knn_train_score = reg.score(train_x,train_y)\n",
    "\n",
    "knn_test_score = reg.score(test_x,test_y)\n",
    "\n",
    "print(\"Knn_test_score:  \", knn_test_score)\n",
    "\n",
    "print(\"knn_train_score: \",knn_train_score)\n",
    "print(\"RMSE:            \", rmse)\n",
    "print(\"R2:              \", r2)\n",
    "\n",
    "\n",
    "print('Test MAE:        ', k )"
   ]
  },
  {
   "cell_type": "code",
   "execution_count": null,
   "id": "6caf3fd1",
   "metadata": {},
   "outputs": [],
   "source": []
  },
  {
   "cell_type": "code",
   "execution_count": null,
   "id": "251e76f1",
   "metadata": {},
   "outputs": [],
   "source": []
  },
  {
   "cell_type": "markdown",
   "id": "6513f5f1",
   "metadata": {},
   "source": [
    "### Observation\n",
    "1) Preprocessing the columns 'pickup_time_of_day' and 'dropoff_time_of_day' and divide them into 4 parts. using general method of finding the error in KNN algorithm, the MAE comes out to be as follows\n",
    "2) For the features used in above calculations, we got a bit under fit results. Although the results are not that bad.\n",
    "3) for K=5, we ha R2 value of 0.813186163341647 and for K=3, we have R2 value of  0.9135591687208122. \n",
    "4) These values are pretty impressive but there is a big room for improvement in the hypothesis."
   ]
  },
  {
   "cell_type": "markdown",
   "id": "393d627b",
   "metadata": {},
   "source": [
    "### KNN analysis for multiple features"
   ]
  },
  {
   "cell_type": "code",
   "execution_count": null,
   "id": "05b2a6d4",
   "metadata": {},
   "outputs": [],
   "source": [
    "from sklearn.neighbors import KNeighborsRegressor\n",
    "from sklearn.model_selection import train_test_split\n",
    "from sklearn.metrics import mean_squared_error\n",
    "\n",
    "# Select the top 5 features\n",
    "X = dfknn[['pickup_latitude', 'pickup_longitude', 'dropoff_latitude', 'dropoff_longitude', 'distance_km']]\n",
    "y = dfknn['trip_duration']\n",
    "\n",
    "# Split the data into training and testing sets\n",
    "X_train, X_test, y_train, y_test = train_test_split(X, y, test_size=0.3, random_state=42)\n",
    "\n",
    "# Initialize the KNN regressor\n",
    "knn = KNeighborsRegressor()\n",
    "\n",
    "# Fit the model on the training data\n",
    "knn.fit(X_train, y_train)\n",
    "\n",
    "# Make predictions on the testing data\n",
    "y_pred = knn.predict(X_test)\n",
    "\n",
    "# Evaluate the model performance using mean squared error\n",
    "mse = mean_squared_error(y_test, y_pred)\n",
    "print('Mean squared error:', mse)\n",
    "\n",
    "r2 = r2_score(y_test, y_pred)\n",
    "print('R-squared:', r2)\n",
    "\n",
    "k = MAE(y_pred, y_test)\n",
    "print('Test MAE:          ', k )"
   ]
  },
  {
   "cell_type": "code",
   "execution_count": null,
   "id": "68766d0c",
   "metadata": {},
   "outputs": [],
   "source": []
  },
  {
   "cell_type": "markdown",
   "id": "89a10799",
   "metadata": {},
   "source": [
    "# Linear Regression"
   ]
  },
  {
   "cell_type": "code",
   "execution_count": null,
   "id": "7531086c",
   "metadata": {},
   "outputs": [],
   "source": [
    "dflr=df.copy()"
   ]
  },
  {
   "cell_type": "code",
   "execution_count": null,
   "id": "11dba192",
   "metadata": {},
   "outputs": [],
   "source": [
    "\n",
    "import numpy as np\n",
    "\n",
    "def haversine(lat1, lon1, lat2, lon2):\n",
    "    R = 6371  # Radius of the earth in km\n",
    "    dlat = np.radians(lat2 - lat1)\n",
    "    dlon = np.radians(lon2 - lon1)\n",
    "    a = np.sin(dlat / 2) ** 2 + np.cos(np.radians(lat1)) * np.cos(np.radians(lat2)) * np.sin(dlon / 2) ** 2\n",
    "    c = 2 * np.arctan2(np.sqrt(a), np.sqrt(1 - a))\n",
    "    distance_km = R * c\n",
    "    return distance_km\n",
    "\n",
    "# Calculate the distance for each row in the dataset\n",
    "dflr['distance_km'] = haversine(dflr['pickup_latitude'], dflr['pickup_longitude'], dflr['dropoff_latitude'], dflr['dropoff_longitude'])\n"
   ]
  },
  {
   "cell_type": "code",
   "execution_count": null,
   "id": "4a01eea0",
   "metadata": {},
   "outputs": [],
   "source": [
    "dflr.shape"
   ]
  },
  {
   "cell_type": "code",
   "execution_count": null,
   "id": "4fa94aa2",
   "metadata": {},
   "outputs": [],
   "source": []
  },
  {
   "cell_type": "code",
   "execution_count": null,
   "id": "12dfd98b",
   "metadata": {},
   "outputs": [],
   "source": [
    "dflr.head()"
   ]
  },
  {
   "cell_type": "markdown",
   "id": "f0aa862b",
   "metadata": {},
   "source": [
    "#### Linear Regression on ('pickup_latitude', 'pickup_longitude', 'dropoff_latitude', 'dropoff_longitude',   'distance_km') features"
   ]
  },
  {
   "cell_type": "code",
   "execution_count": null,
   "id": "dfe1d3fa",
   "metadata": {},
   "outputs": [],
   "source": [
    "from sklearn.linear_model import LinearRegression\n",
    "from sklearn.metrics import mean_squared_error, r2_score\n",
    "from sklearn.model_selection import train_test_split\n",
    "\n",
    "# Select the top 5 features\n",
    "X = dflr[['pickup_latitude', 'pickup_longitude', 'dropoff_latitude', 'dropoff_longitude', 'distance_km']]\n",
    "y = dflr['trip_duration']\n",
    "\n",
    "# Split the data into training and testing sets\n",
    "X_train, X_test, y_train, y_test = train_test_split(X, y, test_size=0.3, random_state=42)\n",
    "\n",
    "# Initialize the linear regression model\n",
    "lr = LinearRegression()\n",
    "\n",
    "# Fit the model on the training data\n",
    "lr.fit(X_train, y_train)\n",
    "\n",
    "train_predict=lr.predict(x_train)\n",
    "k1 = mae(train_predict, train_y)\n",
    "print('Training Mean Absolute Error', k1 )\n",
    "\n",
    "# Make predictions on the testing data\n",
    "y_pred = lr.predict(X_test)\n",
    "\n",
    "# Evaluate the model performance using metrics such as mean squared error and R-squared\n",
    "mse = mean_squared_error(y_test, y_pred)\n",
    "r2 = r2_score(y_test, y_pred)\n",
    "k = MAE(y_pred, y_test)\n",
    "print('Test MAE:          ', k )\n",
    "print('Mean squared error:', mse)\n",
    "print('R-squared:', r2)\n"
   ]
  },
  {
   "cell_type": "markdown",
   "id": "f1bd6fa8",
   "metadata": {},
   "source": [
    "#### Linear Regression on ('distance_km','pickup_hour','passenger_count') features"
   ]
  },
  {
   "cell_type": "code",
   "execution_count": null,
   "id": "ff936c85",
   "metadata": {},
   "outputs": [],
   "source": [
    "from sklearn.model_selection import train_test_split\n",
    "from sklearn.linear_model import LinearRegression\n",
    "from sklearn.metrics import mean_squared_error, r2_score\n",
    "\n",
    "\n",
    "X = dflr[['distance_km','pickup_hour','passenger_count']]\n",
    "y = dflr['trip_duration']\n",
    "\n",
    "# Split the data into training and testing sets\n",
    "X_train, X_test, y_train, y_test = train_test_split(X, y, test_size=0.3, random_state=42)\n",
    "\n",
    "# Initialize the linear regression model\n",
    "lr = LinearRegression()\n",
    "\n",
    "# Fit the model on the training data\n",
    "lr.fit(X_train, y_train)\n",
    "\n",
    "# Make predictions on the testing data\n",
    "y_pred = lr.predict(X_test)\n",
    "\n",
    "# Calculate the mean squared error and R-squared value\n",
    "mse = mean_squared_error(y_test, y_pred)\n",
    "r2 = r2_score(y_test, y_pred)\n",
    "\n",
    "k = MAE(y_pred, y_test)\n",
    "print('Test MAE:          ', k )\n",
    "print('Mean squared error:', mse)\n",
    "print('R-squared:', r2)"
   ]
  },
  {
   "cell_type": "markdown",
   "id": "4613d690",
   "metadata": {},
   "source": [
    "#### Linear Regression on preprocessed columns(days of the week for pickup and dropoff)"
   ]
  },
  {
   "cell_type": "code",
   "execution_count": null,
   "id": "bcaa70b5",
   "metadata": {},
   "outputs": [],
   "source": [
    "dflr.head()"
   ]
  },
  {
   "cell_type": "code",
   "execution_count": null,
   "id": "9379e93d",
   "metadata": {},
   "outputs": [],
   "source": [
    "# Selecting a part of dataset for train dataset \n",
    "data = dflr.iloc[1:18001,]\n",
    "cat_cols = ['pickup_days', 'dropoff_day']\n",
    "# Creating dummy columns\n",
    "data = pd.concat([data, pd.get_dummies(data[cat_cols].astype('str'))], axis=1)\n",
    "data.drop(columns = ['pickup_days', 'dropoff_day','id','vendor_id','pickup_time_of_day','dropoff_time_of_day','pickup_datetime','dropoff_datetime','pickup_date'],inplace = True)\n",
    "data"
   ]
  },
  {
   "cell_type": "code",
   "execution_count": null,
   "id": "0937f984",
   "metadata": {},
   "outputs": [],
   "source": [
    "data.dtypes\n"
   ]
  },
  {
   "cell_type": "code",
   "execution_count": null,
   "id": "dd752617",
   "metadata": {},
   "outputs": [],
   "source": [
    "#seperating independent and dependent variables\n",
    "x = data.drop(['trip_duration'], axis=1)\n",
    "y = data['trip_duration']\n",
    "x.shape, y.shape"
   ]
  },
  {
   "cell_type": "code",
   "execution_count": null,
   "id": "6fc182c3",
   "metadata": {},
   "outputs": [],
   "source": [
    "# Performing the train test split function\n",
    "train_x,test_x,train_y,test_y = train_test_split(x,y, random_state = 56)"
   ]
  },
  {
   "cell_type": "code",
   "execution_count": null,
   "id": "dbabe8f4",
   "metadata": {},
   "outputs": [],
   "source": [
    "#importing Linear Regression \n",
    "from sklearn.linear_model import LinearRegression as LR"
   ]
  },
  {
   "cell_type": "code",
   "execution_count": null,
   "id": "59353c18",
   "metadata": {},
   "outputs": [],
   "source": []
  },
  {
   "cell_type": "code",
   "execution_count": null,
   "id": "855249f6",
   "metadata": {},
   "outputs": [],
   "source": [
    "dflr.dtypes"
   ]
  },
  {
   "cell_type": "code",
   "execution_count": null,
   "id": "14eeb8b3",
   "metadata": {},
   "outputs": [],
   "source": [
    "# Creating instance of Linear Regresssion\n",
    "lr = LR()\n",
    "\n",
    "# Fitting the model\n",
    "lr.fit(train_x, train_y)"
   ]
  },
  {
   "cell_type": "code",
   "execution_count": null,
   "id": "48b11ced",
   "metadata": {},
   "outputs": [],
   "source": [
    "# Predicting over the Train Set and calculating error\n",
    "train_predict = lr.predict(train_x)\n",
    "k = MAE(train_predict, train_y)\n",
    "\n",
    "\n",
    "from sklearn.metrics import mean_squared_error, r2_score\n",
    "\n",
    "# Calculate RMSE\n",
    "rmse = mean_squared_error(train_y, train_predict, squared=False)\n",
    "print('RMSE:', rmse)\n",
    "\n",
    "\n",
    "print('Training Mean Absolute Error', k )"
   ]
  },
  {
   "cell_type": "code",
   "execution_count": null,
   "id": "5ef2f16f",
   "metadata": {},
   "outputs": [],
   "source": [
    "# Predicting over the Test Set and calculating error\n",
    "test_predict = lr.predict(test_x)\n",
    "k = MAE(test_predict, test_y)\n",
    "\n",
    "\n",
    "from sklearn.metrics import mean_squared_error, r2_score\n",
    "\n",
    "# Calculate RMSE\n",
    "rmse = mean_squared_error(test_y, test_predict, squared=False)\n",
    "print('RMSE:', rmse)\n",
    "k = MAE(test_predict, test_y)\n",
    "print('Test MAE:          ', k )\n",
    "\n",
    "print('Test Mean Absolute Error    ', k )"
   ]
  },
  {
   "cell_type": "markdown",
   "id": "f5be33c5",
   "metadata": {},
   "source": [
    "#### Parameters of Linear Regression"
   ]
  },
  {
   "cell_type": "code",
   "execution_count": null,
   "id": "1d0d18fd",
   "metadata": {},
   "outputs": [],
   "source": [
    "lr.coef_"
   ]
  },
  {
   "cell_type": "markdown",
   "id": "f4155788",
   "metadata": {},
   "source": [
    "#### Plotting the coefficients"
   ]
  },
  {
   "cell_type": "code",
   "execution_count": null,
   "id": "5c10f46c",
   "metadata": {},
   "outputs": [],
   "source": [
    "range(len(train_x.columns))"
   ]
  },
  {
   "cell_type": "code",
   "execution_count": null,
   "id": "e805f980",
   "metadata": {},
   "outputs": [],
   "source": [
    "plt.figure(figsize=(8, 6), dpi=120, facecolor='w', edgecolor='b')\n",
    "x = range(len(train_x.columns))\n",
    "y = lr.coef_\n",
    "plt.bar( x, y )\n",
    "plt.xlabel( \"Variables\")\n",
    "plt.ylabel('Coefficients')\n",
    "plt.title('Coefficient plot')"
   ]
  },
  {
   "cell_type": "markdown",
   "id": "96a89bce",
   "metadata": {},
   "source": [
    "#### Checking assumptions of Linear Model"
   ]
  },
  {
   "cell_type": "code",
   "execution_count": null,
   "id": "f5351882",
   "metadata": {},
   "outputs": [],
   "source": [
    "# Arranging and calculating the Residuals\n",
    "residuals = pd.DataFrame({\n",
    "    'fitted values' : test_y,\n",
    "    'predicted values' : test_predict,\n",
    "})\n",
    "\n",
    "residuals['residuals'] = residuals['fitted values'] - residuals['predicted values']\n",
    "residuals.head()"
   ]
  },
  {
   "cell_type": "markdown",
   "id": "87d0e254",
   "metadata": {},
   "source": [
    "#### Checking Distribution of Residuals"
   ]
  },
  {
   "cell_type": "code",
   "execution_count": null,
   "id": "c1b983f7",
   "metadata": {},
   "outputs": [],
   "source": [
    "plt.figure(figsize=(10,6),dpi=150,facecolor=\"w\",edgecolor=\"b\")\n",
    "plt.hist(residuals.residuals,bins=100)\n",
    "plt.xlabel(\"error\")\n",
    "plt.ylabel(\"frequency\")\n",
    "plt.title(\"distribution of error terms\")\n",
    "plt.show()"
   ]
  },
  {
   "cell_type": "markdown",
   "id": "a5aacb7f",
   "metadata": {},
   "source": [
    "#### QQ-Plot"
   ]
  },
  {
   "cell_type": "code",
   "execution_count": null,
   "id": "ad52afb0",
   "metadata": {},
   "outputs": [],
   "source": [
    "# importing the QQ-plot from the from the statsmodels\n",
    "from statsmodels.graphics.gofplots import qqplot\n",
    "\n",
    "## Plotting the QQ plot\n",
    "fig, ax = plt.subplots(figsize=(5,5) , dpi = 120)\n",
    "qqplot(residuals.residuals, line = 's' , ax = ax)\n",
    "plt.ylabel('Residual Quantiles')\n",
    "plt.xlabel('Ideal Scaled Quantiles')\n",
    "plt.legend([\"Residual Quantiles\",\"Ideal Scaled Quantiles\"])\n",
    "plt.title('Checking distribution of Residual Errors')\n",
    "plt.show()"
   ]
  },
  {
   "cell_type": "code",
   "execution_count": null,
   "id": "a749cb66",
   "metadata": {},
   "outputs": [],
   "source": [
    "# Importing Variance_inflation_Factor funtion from the Statsmodels\n",
    "from statsmodels.stats.outliers_influence import variance_inflation_factor\n",
    "from statsmodels.tools.tools import add_constant\n",
    "\n",
    "# Calculating VIF for every column (only works for the not Catagorical)\n",
    "VIF = pd.Series([variance_inflation_factor(data.values, i) for i in range(data.shape[1])], index =data.columns)\n",
    "VIF"
   ]
  },
  {
   "cell_type": "markdown",
   "id": "2eb2bf20",
   "metadata": {},
   "source": [
    "#### Model Interpretability"
   ]
  },
  {
   "cell_type": "code",
   "execution_count": null,
   "id": "f93795b6",
   "metadata": {},
   "outputs": [],
   "source": [
    "from sklearn.linear_model import LinearRegression\n",
    "from sklearn.preprocessing import StandardScaler\n",
    "\n",
    "# Create an instance of StandardScaler\n",
    "scaler = StandardScaler()\n",
    "\n",
    "# Normalize the input features\n",
    "train_x_scaled = scaler.fit_transform(train_x)\n",
    "test_x_scaled = scaler.transform(test_x)\n",
    "\n",
    "# Create an instance of Linear Regression\n",
    "lr = LinearRegression()\n",
    "\n",
    "# Fit the model\n",
    "lr.fit(train_x_scaled, train_y)"
   ]
  },
  {
   "cell_type": "code",
   "execution_count": null,
   "id": "3e47096d",
   "metadata": {},
   "outputs": [],
   "source": [
    "# Predicting over the Train Set and calculating error\n",
    "train_predict = lr.predict(train_x)\n",
    "k = MAE(train_predict, train_y)\n",
    "print('Training Mean Absolute Error', k )"
   ]
  },
  {
   "cell_type": "code",
   "execution_count": null,
   "id": "5d6c0e54",
   "metadata": {},
   "outputs": [],
   "source": [
    "# Predicting over the Test Set and calculating error\n",
    "test_predict = lr.predict(test_x)\n",
    "k = MAE(test_predict, test_y)\n",
    "\n",
    "\n",
    "from sklearn.metrics import mean_squared_error, r2_score\n",
    "\n",
    "# Calculate RMSE\n",
    "rmse = mean_squared_error(test_y, test_predict, squared=False)\n",
    "print('RMSE:', rmse)\n",
    "\n",
    "\n",
    "\n",
    "print('Test Mean Absolute Error    ', k )"
   ]
  },
  {
   "cell_type": "code",
   "execution_count": null,
   "id": "b63fc7ab",
   "metadata": {},
   "outputs": [],
   "source": [
    "plt.figure(figsize=(8, 6), dpi=120, facecolor='w', edgecolor='b')\n",
    "x = range(len(train_x.columns))\n",
    "y = lr.coef_\n",
    "plt.bar( x, y )\n",
    "plt.xlabel( \"Variables\")\n",
    "plt.ylabel('Coefficients')\n",
    "plt.title('Normalized Coefficient plot')"
   ]
  },
  {
   "cell_type": "markdown",
   "id": "d92cc5b1",
   "metadata": {},
   "source": [
    "# Conclusions\n",
    "1) We have done regression on 4 different set of features. Unfortunately, no any hypothesis gave us very good results.\n",
    "2) Our Linear regression model will fall under the catagory of either under fit or over fit.\n",
    "3) On computing the coefficients we observed that there are some negative values as well\n",
    "4) On plotting the qqplot we see that the residual quantile line doesn't fit over all ideal scaled quantiles"
   ]
  },
  {
   "cell_type": "markdown",
   "id": "c96b3a14",
   "metadata": {},
   "source": [
    "## Comparison of best MAE for three models\n",
    "Note: This is not a best way to comparing the models as we are comparing only MAE.\n",
    "\n",
    "* Other parameters are more important determining if the model is good or not like, R2, RMSE, MSE.\n",
    "* This is just a general comparison of three models because our model didn't perform well in linear regression."
   ]
  },
  {
   "cell_type": "code",
   "execution_count": null,
   "id": "3789ae36",
   "metadata": {},
   "outputs": [],
   "source": [
    "import matplotlib.pyplot as plt\n",
    "\n",
    "mae_benchmark = 0.0961111111111111\n",
    "mae_knn =  0.06723621399176954\n",
    "mae_linear =   0.12728821350623243\n",
    "\n",
    "models = ['Benchmark', 'KNN', 'Linear Regression']\n",
    "mae_values = [mae_benchmark, mae_knn, mae_linear]\n",
    "\n",
    "plt.bar(models, mae_values, color=['red', 'green', 'blue'])\n",
    "plt.title('Comparison of MAE Values for Three Models')\n",
    "plt.xlabel('Models')\n",
    "plt.ylabel('MAE')\n",
    "\n",
    "for i in range(len(models)):\n",
    "    plt.annotate(str(round(mae_values[i], 3)), xy=(models[i], mae_values[i]), ha='center', va='bottom')\n",
    "\n",
    "plt.show()\n"
   ]
  },
  {
   "cell_type": "code",
   "execution_count": null,
   "id": "194fc960",
   "metadata": {},
   "outputs": [],
   "source": []
  },
  {
   "cell_type": "code",
   "execution_count": null,
   "id": "e864d6b2",
   "metadata": {},
   "outputs": [],
   "source": []
  },
  {
   "cell_type": "code",
   "execution_count": null,
   "id": "9a691054",
   "metadata": {},
   "outputs": [],
   "source": []
  },
  {
   "cell_type": "code",
   "execution_count": null,
   "id": "9e2a1e5a",
   "metadata": {},
   "outputs": [],
   "source": []
  },
  {
   "cell_type": "code",
   "execution_count": null,
   "id": "7a7feaf0",
   "metadata": {},
   "outputs": [],
   "source": []
  }
 ],
 "metadata": {
  "kernelspec": {
   "display_name": "Python 3 (ipykernel)",
   "language": "python",
   "name": "python3"
  },
  "language_info": {
   "codemirror_mode": {
    "name": "ipython",
    "version": 3
   },
   "file_extension": ".py",
   "mimetype": "text/x-python",
   "name": "python",
   "nbconvert_exporter": "python",
   "pygments_lexer": "ipython3",
   "version": "3.10.9"
  }
 },
 "nbformat": 4,
 "nbformat_minor": 5
}
